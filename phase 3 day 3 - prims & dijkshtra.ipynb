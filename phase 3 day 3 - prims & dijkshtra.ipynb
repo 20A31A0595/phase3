{
 "cells": [
  {
   "cell_type": "code",
   "execution_count": 1,
   "id": "99ea02fb",
   "metadata": {},
   "outputs": [
    {
     "name": "stdout",
     "output_type": "stream",
     "text": [
      "(1, 'a', 'b')\n",
      "(1, 'b', 'd')\n",
      "(1, 'c', 'd')\n",
      "(2, 'b', 'e')\n"
     ]
    }
   ],
   "source": [
    "#Implementation of Kruskal's Algorithm\n",
    "\n",
    "def Kruskals(graph):\n",
    "    parent={}\n",
    "    edge_list=[]\n",
    "    mst=[]\n",
    "    for vertex in graph:\n",
    "        for w,dest in graph[vertex]:\n",
    "            edge_list.append((w,vertex,dest))\n",
    "            \n",
    "    edge_list.sort()\n",
    "    \n",
    "    for vertex in graph:\n",
    "        parent[vertex]=vertex\n",
    "\n",
    "    def find_parent(vertex):\n",
    "        if(parent[vertex]!=vertex):\n",
    "            parent[vertex]=find_parent(parent[vertex])\n",
    "        return parent[vertex]\n",
    "        \n",
    "    for edge in edge_list:\n",
    "        weight,source,dest=edge\n",
    "        if find_parent(source)!=find_parent(dest):\n",
    "            mst.append(edge)\n",
    "            parent[find_parent(source)]=find_parent(dest)\n",
    "    return mst\n",
    "\n",
    "graph={\n",
    "     \"a\":[(1,\"b\"),(3,\"e\")],\n",
    "     \"b\":[(1,\"a\"),(2,\"e\"),(1,\"d\"),(4,\"c\")],\n",
    "     \"c\":[(4,\"b\"),(1,\"d\")],\n",
    "     \"d\":[(2,\"e\"),(1,\"b\"),(1,\"c\")],\n",
    "     \"e\":[(3,\"a\"),(2,\"b\"),(2,\"d\")]\n",
    "    }\n",
    "mst=Kruskals(graph)\n",
    "print(*mst,sep=\"\\n\")"
   ]
  },
  {
   "cell_type": "code",
   "execution_count": 2,
   "id": "1b3cbfc2",
   "metadata": {},
   "outputs": [
    {
     "name": "stdout",
     "output_type": "stream",
     "text": [
      "{'a': ['b'], 'b': ['e', 'd'], 'd': ['c']}\n",
      "5\n"
     ]
    }
   ],
   "source": [
    "#Implementation of Prims Algorithm\n",
    "\n",
    "def fill_weights(graph):\n",
    "    w={}\n",
    "    for vertex in graph:\n",
    "        w[vertex]=999999\n",
    "    return w\n",
    "def Prims(graph,start):\n",
    "    weight=fill_weights(graph)\n",
    "    parent={}\n",
    "    weight[start]=0\n",
    "    bag=[start]\n",
    "    visited=[]\n",
    "    while(len(bag)!=0):\n",
    "        ele=bag.pop(0)\n",
    "        for w,n in graph[ele]:\n",
    "             if n not in visited and w<weight[n]:    #checking for non-visited nodes\n",
    "                weight[n]=w\n",
    "                parent[n]=ele\n",
    "                if n not in bag:\n",
    "                    bag.append(n)\n",
    "        visited.append(ele)\n",
    "    mst={}\n",
    "    for key,value in parent.items():\n",
    "        try:\n",
    "            mst[value].append(key)\n",
    "        except:\n",
    "            mst[value]=[key]\n",
    "    return [mst,sum(weight.values())]\n",
    "graph={\n",
    "     \"a\":[(1,\"b\"),(3,\"e\")],\n",
    "     \"b\":[(1,\"a\"),(2,\"e\"),(1,\"d\"),(4,\"c\")],\n",
    "     \"c\":[(4,\"b\"),(1,\"d\")],\n",
    "     \"d\":[(2,\"e\"),(1,\"b\"),(1,\"c\")],\n",
    "     \"e\":[(1,\"a\"),(2,\"b\"),(2,\"d\")]\n",
    "    }\n",
    "mst=Prims(graph,\"a\")\n",
    "print(*mst,sep=\"\\n\")"
   ]
  },
  {
   "cell_type": "code",
   "execution_count": null,
   "id": "5d89422b",
   "metadata": {},
   "outputs": [],
   "source": []
  }
 ],
 "metadata": {
  "kernelspec": {
   "display_name": "Python 3 (ipykernel)",
   "language": "python",
   "name": "python3"
  },
  "language_info": {
   "codemirror_mode": {
    "name": "ipython",
    "version": 3
   },
   "file_extension": ".py",
   "mimetype": "text/x-python",
   "name": "python",
   "nbconvert_exporter": "python",
   "pygments_lexer": "ipython3",
   "version": "3.10.9"
  }
 },
 "nbformat": 4,
 "nbformat_minor": 5
}
