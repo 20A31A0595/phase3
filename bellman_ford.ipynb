{
 "cells": [
  {
   "cell_type": "code",
   "execution_count": 10,
   "id": "26880c02",
   "metadata": {},
   "outputs": [
    {
     "name": "stdout",
     "output_type": "stream",
     "text": [
      "{'A': 0, 'B': -3, 'C': 4, 'D': 7}\n"
     ]
    }
   ],
   "source": [
    "def bellman_ford(graph , source , n):\n",
    "    dist = {}\n",
    "    for vertex in graph:\n",
    "        dist[vertex] = 999999\n",
    "    dist[source] = 0\n",
    "    for i in range(n-1):\n",
    "        for vertex in graph:\n",
    "            for w , n in graph[vertex]:\n",
    "                cost = dist[vertex] + w\n",
    "                if cost < dist[n]:\n",
    "                    dist[n] = cost\n",
    "        for vertex in graph:\n",
    "            for w , n in graph[vertex]:\n",
    "                cost = dist[vertex] + w\n",
    "                if cost < dist[n]:\n",
    "                    print(\"negative weight cycle is present\")\n",
    "                    return None\n",
    "                \n",
    "                return dist\n",
    "graph = {\n",
    "    \"A\": [(4,\"B\"),(4,\"C\")],\n",
    "    \"B\": [(5,\"C\")],\n",
    "    \"C\": [(3,\"D\")],\n",
    "    \"D\": [(-10,\"B\")],   \n",
    "}\n",
    "distance=bellman_ford(graph,\"A\",len(graph.keys()))\n",
    "print(distance)"
   ]
  },
  {
   "cell_type": "code",
   "execution_count": null,
   "id": "69fd8f37",
   "metadata": {},
   "outputs": [],
   "source": []
  }
 ],
 "metadata": {
  "kernelspec": {
   "display_name": "Python 3 (ipykernel)",
   "language": "python",
   "name": "python3"
  },
  "language_info": {
   "codemirror_mode": {
    "name": "ipython",
    "version": 3
   },
   "file_extension": ".py",
   "mimetype": "text/x-python",
   "name": "python",
   "nbconvert_exporter": "python",
   "pygments_lexer": "ipython3",
   "version": "3.10.9"
  }
 },
 "nbformat": 4,
 "nbformat_minor": 5
}
